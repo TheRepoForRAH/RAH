{
 "cells": [
  {
   "cell_type": "code",
   "execution_count": null,
   "metadata": {},
   "outputs": [],
   "source": [
    "import os\n",
    "from agents import GeneralAgent, PerceiveAgent, LearnAgent, ActionAgent, CriticAgent, ReflectAgent, get_agents\n",
    "from assistant import Assistant\n",
    "from library import Library\n",
    "import random\n",
    "from utils import SCORE_MAP, make_name"
   ]
  },
  {
   "cell_type": "code",
   "execution_count": null,
   "metadata": {},
   "outputs": [],
   "source": [
    "prompt_dir = \"./prompt\"\n",
    "library_path = \"./library\"\n",
    "item_library_path = os.path.join(library_path, \"item\")\n",
    "record_library_path = os.path.join(library_path, \"record\")    \n",
    "personality_library_path = os.path.join(library_path, \"personality\")\n",
    "history_library_path = \"./examples\"\n",
    "\n",
    "# check exist and create\n",
    "for path in [library_path, item_library_path, record_library_path, personality_library_path]:\n",
    "    if not os.path.exists(path):\n",
    "        os.makedirs(path)"
   ]
  },
  {
   "cell_type": "code",
   "execution_count": null,
   "metadata": {},
   "outputs": [],
   "source": [
    "library = Library(item_library_path, record_library_path, personality_library_path, history_library_path)\n",
    "perceive_agent, learn_agent, action_agent, reflect_agent, critic_agent = get_agents(prompt_dir = prompt_dir)"
   ]
  },
  {
   "cell_type": "code",
   "execution_count": null,
   "metadata": {},
   "outputs": [],
   "source": [
    "cur_user_id = random.choice(list(library.history_dict.keys()))\n",
    "cur_user_history = library.history_dict[cur_user_id]\n",
    "assistant = Assistant(perceive_agent, learn_agent, action_agent, reflect_agent, critic_agent, cur_user_id, library)"
   ]
  },
  {
   "cell_type": "code",
   "execution_count": null,
   "metadata": {},
   "outputs": [],
   "source": [
    "domain = random.choice([\"Movies_and_TV\", \"Books\", \"Video_Games\"])\n",
    "\n",
    "# can learn from more histories for better personalities \n",
    "learn1, learn2 = random.choices(cur_user_history[\"learn\"][domain], k=2)\n",
    "proxy = random.choice(cur_user_history[\"proxy\"][domain])\n",
    "unseen = random.choice(cur_user_history[\"unseen\"][domain])"
   ]
  },
  {
   "cell_type": "markdown",
   "metadata": {},
   "source": [
    "# learn-act-critic loop"
   ]
  },
  {
   "cell_type": "code",
   "execution_count": null,
   "metadata": {},
   "outputs": [],
   "source": [
    "learn1_response = assistant.step_learn_act_critic(\n",
    "        item_id=learn1[\"asin\"], item_name=make_name(learn1[\"title\"], domain),\n",
    "        user_action=SCORE_MAP[learn1[\"overall\"]], user_comment=learn1[\"reviewText\"], max_try_times=2, log=True)"
   ]
  },
  {
   "cell_type": "code",
   "execution_count": null,
   "metadata": {},
   "outputs": [],
   "source": [
    "# directly add\n",
    "new_prefer = learn1_response[\"result\"][\"new_personality\"][\"prefer\"]\n",
    "new_disprefer = learn1_response[\"result\"][\"new_personality\"][\"disprefer\"]\n",
    "\n",
    "assistant.prefer += new_prefer\n",
    "assistant.disprefer += new_disprefer\n"
   ]
  },
  {
   "cell_type": "code",
   "execution_count": null,
   "metadata": {},
   "outputs": [],
   "source": [
    "learn2_response = assistant.step_learn_act_critic(\n",
    "        item_id=learn2[\"asin\"], item_name=make_name(learn2[\"title\"], domain),\n",
    "        user_action=SCORE_MAP[learn2[\"overall\"]], user_comment=learn2[\"reviewText\"], max_try_times=2, log=True)"
   ]
  },
  {
   "cell_type": "markdown",
   "metadata": {},
   "source": [
    "# reflection mechanism"
   ]
  },
  {
   "cell_type": "code",
   "execution_count": null,
   "metadata": {},
   "outputs": [],
   "source": [
    "# with reflection\n",
    "new_prefer = learn2_response[\"result\"][\"new_personality\"][\"prefer\"]\n",
    "new_disprefer = learn2_response[\"result\"][\"new_personality\"][\"disprefer\"]\n",
    "reflect_response = assistant.reflect(new_prefer=new_prefer, new_disprefer=new_disprefer, log=True)"
   ]
  },
  {
   "cell_type": "markdown",
   "metadata": {},
   "source": [
    "# make actions"
   ]
  },
  {
   "cell_type": "code",
   "execution_count": null,
   "metadata": {},
   "outputs": [],
   "source": [
    "assistant.act(item_id=proxy[\"asin\"], item_name=make_name(proxy[\"title\"], domain))"
   ]
  },
  {
   "cell_type": "code",
   "execution_count": null,
   "metadata": {},
   "outputs": [],
   "source": [
    "assistant.act(item_id=unseen[\"asin\"], item_name=make_name(unseen[\"title\"], domain))"
   ]
  }
 ],
 "metadata": {
  "kernelspec": {
   "display_name": "Python 3.9.16 ('torch2')",
   "language": "python",
   "name": "python3"
  },
  "language_info": {
   "codemirror_mode": {
    "name": "ipython",
    "version": 3
   },
   "file_extension": ".py",
   "mimetype": "text/x-python",
   "name": "python",
   "nbconvert_exporter": "python",
   "pygments_lexer": "ipython3",
   "version": "3.9.16"
  },
  "orig_nbformat": 4,
  "vscode": {
   "interpreter": {
    "hash": "7e487cf77805d258f9381b722c4835c88bbfb0bfb9afb24b17a64edd0018aac5"
   }
  }
 },
 "nbformat": 4,
 "nbformat_minor": 2
}
